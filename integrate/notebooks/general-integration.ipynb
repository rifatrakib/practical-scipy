{
 "cells": [
  {
   "cell_type": "markdown",
   "metadata": {},
   "source": [
    "## Integration (`scipy.integrate`)\n",
    "\n",
    "The `scipy.integrate` sub-package provides _several integration techniques_ including an _ordinary differential equation integrator_. An overview of the module is provided by the help command."
   ]
  },
  {
   "cell_type": "code",
   "execution_count": 1,
   "metadata": {},
   "outputs": [],
   "source": [
    "from scipy import integrate\n",
    "from scipy import special\n",
    "import numpy as np"
   ]
  },
  {
   "cell_type": "markdown",
   "metadata": {},
   "source": [
    "#### General integration (`quad`)\n",
    "\n",
    "The function `quad` is provided to integrate a function of one variable between two points. The points can be $\\pm\\infty$ ($\\pm inf$) to indicate infinite limits. For example, suppose you wish to integrate a bessel function `jv(2.5, x)` along the interval `[0, 4.5]`.\n",
    "\n",
    "$I=\\int_{0}^{4.5}J_{2.5}\\left(x\\right)\\, dx.$\n",
    "\n",
    "This could be computed using `quad`."
   ]
  },
  {
   "cell_type": "code",
   "execution_count": 2,
   "metadata": {},
   "outputs": [
    {
     "data": {
      "text/plain": [
       "(1.1178179380783253, 7.866317250224184e-09)"
      ]
     },
     "execution_count": 2,
     "metadata": {},
     "output_type": "execute_result"
    }
   ],
   "source": [
    "result = integrate.quad(lambda x: special.jv(2.5, x), 0, 4.5)\n",
    "result"
   ]
  },
  {
   "cell_type": "code",
   "execution_count": 3,
   "metadata": {},
   "outputs": [
    {
     "data": {
      "text/plain": [
       "1.117817938088701"
      ]
     },
     "execution_count": 3,
     "metadata": {},
     "output_type": "execute_result"
    }
   ],
   "source": [
    "I = np.sqrt(\n",
    "    2 / np.pi) * (18.0 / 27 * np.sqrt(2)\\\n",
    "    * np.cos(4.5) - 4.0 / 27 * np.sqrt(2)\\\n",
    "    * np.sin(4.5) + np.sqrt(2 * np.pi)\\\n",
    "    * special.fresnel(3 / np.sqrt(np.pi))[0]\n",
    ")\n",
    "I"
   ]
  },
  {
   "cell_type": "code",
   "execution_count": 4,
   "metadata": {},
   "outputs": [
    {
     "name": "stdout",
     "output_type": "stream",
     "text": [
      "1.0375700298936863e-11\n"
     ]
    }
   ],
   "source": [
    "print(abs(result[0] - I))"
   ]
  },
  {
   "cell_type": "markdown",
   "metadata": {},
   "source": [
    "The first argument to `quad` is a `\"callable\" Python object` (_i.e., a function, method, or class instance_). Notice the use of a `lambda function` in this case as the argument. The next _two arguments_ are the __limits of integration__. The return value is a `tuple`, with the `first element` holding the _estimated value of the integral_ and the `second element` holding an _upper bound on the error_. Notice, that in this case, the true value of this integral is\n",
    "\n",
    "$I=\\sqrt{\\frac{2}{\\pi}}\\left(\\frac{18}{27}\\sqrt{2}\\cos\\left(4.5\\right)-\\frac{4}{27}\\sqrt{2}\\sin\\left(4.5\\right)+\\sqrt{2\\pi}\\textrm{Si}\\left(\\frac{3}{\\sqrt{\\pi}}\\right)\\right)$,\n",
    "\n",
    "where\n",
    "\n",
    "$\\textrm{Si}\\left(x\\right)=\\int_{0}^{x}\\sin\\left(\\frac{\\pi}{2}t^{2}\\right)\\, dt$.\n",
    "\n",
    "is the `Fresnel sine integral`. Note that the `numerically-computed integral` is within $1.04\\times10^{-11}$  of the exact result — well below the reported error bound.\n",
    "\n",
    "If the function to integrate takes additional parameters, they can be provided in the args argument. Suppose that the following integral shall be calculated:\n",
    "\n",
    "$I(a,b)=\\int_{0}^{1} ax^2+b \\, dx$.\n",
    "\n",
    "This integral can be evaluated by using the following code:"
   ]
  },
  {
   "cell_type": "code",
   "execution_count": 5,
   "metadata": {},
   "outputs": [],
   "source": [
    "def integrand(x, a, b):\n",
    "    return a * x ** 2 + b"
   ]
  },
  {
   "cell_type": "code",
   "execution_count": 6,
   "metadata": {},
   "outputs": [
    {
     "data": {
      "text/plain": [
       "(1.6666666666666667, 1.8503717077085944e-14)"
      ]
     },
     "execution_count": 6,
     "metadata": {},
     "output_type": "execute_result"
    }
   ],
   "source": [
    "a = 2\n",
    "b = 1\n",
    "I = integrate.quad(integrand, 0, 1, args=(a, b))\n",
    "I"
   ]
  },
  {
   "cell_type": "markdown",
   "metadata": {},
   "source": [
    "`Infinite` inputs are also allowed in `quad` by using $\\pm inf$ as one of the arguments. For example, suppose that a numerical value for the exponential integral:\n",
    "\n",
    "$E_{n}\\left(x\\right)=\\int_{1}^{\\infty}\\frac{e^{-xt}}{t^{n}}\\, dt$.\n",
    "\n",
    "is desired (and the fact that _this integral can be computed_ as `special.expn(n,x)` is forgotten). The functionality of the function `special.expn` can be _replicated_ by defining a new function `vec_expint` based on the routine `quad`:"
   ]
  },
  {
   "cell_type": "code",
   "execution_count": 7,
   "metadata": {},
   "outputs": [],
   "source": [
    "def integrand(t, n, x):\n",
    "    return np.exp(-x * t) / t ** n"
   ]
  },
  {
   "cell_type": "code",
   "execution_count": 8,
   "metadata": {},
   "outputs": [],
   "source": [
    "def expint(n, x):\n",
    "    return integrate.quad(integrand, 1, np.inf, args=(n, x))[0]"
   ]
  },
  {
   "cell_type": "code",
   "execution_count": 9,
   "metadata": {},
   "outputs": [],
   "source": [
    "vec_expint = np.vectorize(expint)"
   ]
  },
  {
   "cell_type": "code",
   "execution_count": 10,
   "metadata": {},
   "outputs": [
    {
     "data": {
      "text/plain": [
       "array([0.10969197, 0.05673949, 0.03013338, 0.01629537, 0.00893065,\n",
       "       0.00494538])"
      ]
     },
     "execution_count": 10,
     "metadata": {},
     "output_type": "execute_result"
    }
   ],
   "source": [
    "vec_expint(3, np.arange(1.0, 4.0, 0.5))"
   ]
  },
  {
   "cell_type": "code",
   "execution_count": 11,
   "metadata": {},
   "outputs": [
    {
     "data": {
      "text/plain": [
       "array([0.10969197, 0.05673949, 0.03013338, 0.01629537, 0.00893065,\n",
       "       0.00494538])"
      ]
     },
     "execution_count": 11,
     "metadata": {},
     "output_type": "execute_result"
    }
   ],
   "source": [
    "special.expn(3, np.arange(1.0, 4.0, 0.5))"
   ]
  },
  {
   "cell_type": "markdown",
   "metadata": {},
   "source": [
    "The function which is integrated can even use the `quad` argument (though the `error bound` may _underestimate_ the error due to possible `numerical error` in the _integrand_ from the use of `quad`). The integral in this case is\n",
    "\n",
    "$I_{n}=\\int_{0}^{\\infty}\\int_{1}^{\\infty}\\frac{e^{-xt}}{t^{n}}\\, dt\\, dx=\\frac{1}{n}$."
   ]
  },
  {
   "cell_type": "code",
   "execution_count": 12,
   "metadata": {},
   "outputs": [
    {
     "name": "stdout",
     "output_type": "stream",
     "text": [
      "(0.33333333325010883, 2.8604069920115143e-09)\n"
     ]
    }
   ],
   "source": [
    "result = integrate.quad(lambda x: expint(3, x), 0, np.inf)\n",
    "print(result)"
   ]
  },
  {
   "cell_type": "code",
   "execution_count": 13,
   "metadata": {},
   "outputs": [
    {
     "name": "stdout",
     "output_type": "stream",
     "text": [
      "0.3333333333333333\n"
     ]
    }
   ],
   "source": [
    "I3 = 1.0 / 3.0\n",
    "print(I3)"
   ]
  },
  {
   "cell_type": "code",
   "execution_count": 14,
   "metadata": {},
   "outputs": [
    {
     "name": "stdout",
     "output_type": "stream",
     "text": [
      "8.322448286079975e-11\n"
     ]
    }
   ],
   "source": [
    "print(I3 - result[0])"
   ]
  },
  {
   "cell_type": "markdown",
   "metadata": {},
   "source": [
    "This last example shows that _`multiple integration` can be handled_ using repeated calls to `quad`."
   ]
  },
  {
   "cell_type": "code",
   "execution_count": null,
   "metadata": {},
   "outputs": [],
   "source": []
  }
 ],
 "metadata": {
  "kernelspec": {
   "display_name": "Python 3.9.6 ('scn-env': venv)",
   "language": "python",
   "name": "python3"
  },
  "language_info": {
   "codemirror_mode": {
    "name": "ipython",
    "version": 3
   },
   "file_extension": ".py",
   "mimetype": "text/x-python",
   "name": "python",
   "nbconvert_exporter": "python",
   "pygments_lexer": "ipython3",
   "version": "3.9.6"
  },
  "orig_nbformat": 4,
  "vscode": {
   "interpreter": {
    "hash": "334adecaf545d8ac59366034c1ccd78db2f87fef6cb2e0b7d53f54b4d7280283"
   }
  }
 },
 "nbformat": 4,
 "nbformat_minor": 2
}
