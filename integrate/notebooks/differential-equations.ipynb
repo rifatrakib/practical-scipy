{
 "cells": [
  {
   "cell_type": "markdown",
   "metadata": {},
   "source": [
    "## Ordinary differential equations (solve_ivp)\n",
    "\n",
    "Integrating a set of `ordinary differential equations (ODEs)` given _initial conditions_ is another useful example. The function `solve_ivp` is available in `SciPy` for integrating a `first-order vector differential equation`:\n",
    "\n",
    "$\\frac{d\\mathbf{y}}{dt}=\\mathbf{f}\\left(\\mathbf{y},t\\right)$,\n",
    "\n",
    "given initial conditions $\\mathbf{y}\\left(0\\right)=y_{0}$, where $\\mathbf{y}$ is a length $N$ vector and $\\mathbf{f}$ is a mapping from $\\mathcal{R}^{N}$ to $\\mathcal{R}^{N}$. A `higher-order ordinary differential equation` can always be __reduced__ to a _differential equation_ of this type by introducing __`intermediate derivatives`__ into the $\\mathbf{y}$ vector.\n",
    "\n",
    "For example, suppose it is desired to find the solution to the following second-order differential equation:\n",
    "\n",
    "$\\frac{d^{2}w}{dz^{2}}-zw(z)=0$\n",
    "\n",
    "with _initial conditions_ $w\\left(0\\right)=\\frac{1}{\\sqrt[3]{3^{2}}\\Gamma\\left(\\frac{2}{3}\\right)}$ and $\\left.\\frac{dw}{dz}\\right|_{z=0}=-\\frac{1}{\\sqrt[3]{3}\\Gamma\\left(\\frac{1}{3}\\right)}$. It is known that the solution to this _differential equation_ with these `boundary conditions` is the __`Airy function`__\n",
    "\n",
    "$w=\\textrm{Ai}\\left(z\\right)$,\n",
    "\n",
    "which gives a means to check the _integrator_ using `special.airy`.\n",
    "\n",
    "First, convert this `ODE` into _standard form_ by setting $\\mathbf{y}=\\left[\\frac{dw}{dz},w\\right]$ and $t=z$. Thus, the _differential equation_ becomes\n",
    "\n",
    "$\\frac{d\\mathbf{y}}{dt}=\\left[\\begin{array}{c} ty_{1}\\\\ y_{0}\\end{array}\\right]=\\left[\\begin{array}{cc} 0 & t\\\\ 1 & 0\\end{array}\\right]\\left[\\begin{array}{c} y_{0}\\\\ y_{1}\\end{array}\\right]=\\left[\\begin{array}{cc} 0 & t\\\\ 1 & 0\\end{array}\\right]\\mathbf{y}$.\n",
    "\n",
    "In other words,\n",
    "\n",
    "$\\mathbf{f}\\left(\\mathbf{y},t\\right)=\\mathbf{A}\\left(t\\right)\\mathbf{y}$.\n",
    "\n",
    "As an interesting reminder, if $\\mathbf{A}\\left(t\\right)$ commutes with $\\int_{0}^{t}\\mathbf{A}\\left(\\tau\\right)\\, d\\tau$ under __`matrix multiplication`__, then this `linear differential equation` has an exact solution using the __matrix exponential__:\n",
    "\n",
    "$\\mathbf{y}\\left(t\\right)=\\exp\\left(\\int_{0}^{t}\\mathbf{A}\\left(\\tau\\right)d\\tau\\right)\\mathbf{y}\\left(0\\right)$,\n",
    "\n",
    "However, in this case, $\\mathbf{A}\\left(t\\right)$ and its integral _do not commute_.\n",
    "\n",
    "This `differential equation` can be solved using the function `solve_ivp`. It requires the _`derivative`, `fprime`, the `time span [t_start, t_end]` and the initial conditions vector, `y0`_, as input arguments and returns an object whose `y` field is _an array_ with consecutive solution values as columns. The initial conditions are therefore given in the first output column."
   ]
  },
  {
   "cell_type": "code",
   "execution_count": 1,
   "metadata": {},
   "outputs": [],
   "source": [
    "from scipy import integrate\n",
    "from scipy import special\n",
    "import numpy as np"
   ]
  },
  {
   "cell_type": "code",
   "execution_count": 2,
   "metadata": {},
   "outputs": [],
   "source": [
    "def func(t, y):\n",
    "    return [t * y[1], y[0]]"
   ]
  },
  {
   "cell_type": "code",
   "execution_count": 3,
   "metadata": {},
   "outputs": [],
   "source": [
    "def gradient(t, y):\n",
    "    return [[0, t], [1, 0]]"
   ]
  },
  {
   "cell_type": "code",
   "execution_count": 4,
   "metadata": {},
   "outputs": [],
   "source": [
    "y1_0 = 1 / 3 ** (2 / 3) / special.gamma(2 / 3)\n",
    "y0_0 = -1 / 3 ** (1 / 3) / special.gamma(1 / 3)\n",
    "y0 = [y0_0, y1_0]\n",
    "t_span = [0, 4]"
   ]
  },
  {
   "cell_type": "code",
   "execution_count": 5,
   "metadata": {},
   "outputs": [
    {
     "name": "stdout",
     "output_type": "stream",
     "text": [
      "sol_1.t = array([0.        , 0.10097672, 1.04643602, 1.91060117, 2.49872472,\n",
      "       3.08684827, 3.62692846, 4.        ])\n"
     ]
    }
   ],
   "source": [
    "sol_1 = integrate.solve_ivp(func, t_span, y0)\n",
    "print(f\"{sol_1.t = }\")"
   ]
  },
  {
   "cell_type": "markdown",
   "metadata": {},
   "source": [
    "As it can be seen `solve_ivp` _determines its time steps_ **automatically** if not specified otherwise. To compare the solution of `solve_ivp` with the `airy` function the _time vector_ created by `solve_ivp` is passed to the `airy` function."
   ]
  },
  {
   "cell_type": "code",
   "execution_count": 6,
   "metadata": {},
   "outputs": [
    {
     "name": "stdout",
     "output_type": "stream",
     "text": [
      "sol_1.t[1] = 0.10097672265100152\n",
      "special.airy(sol_1.t)[0] = array([0.35502805, 0.328952  , 0.12804768, 0.03995804, 0.01575943,\n",
      "       0.00562799, 0.00201689, 0.00095156])\n"
     ]
    }
   ],
   "source": [
    "print(f\"{sol_1.t[1] = }\")\n",
    "print(f\"{special.airy(sol_1.t)[0] = }\")"
   ]
  },
  {
   "cell_type": "markdown",
   "metadata": {},
   "source": [
    "The solution of `solve_ivp` with its _standard parameters_ shows a _big deviation_ to the `airy` function. To __minimize__ this deviation, _relative and absolute tolerances_ can be used."
   ]
  },
  {
   "cell_type": "code",
   "execution_count": 7,
   "metadata": {},
   "outputs": [
    {
     "name": "stdout",
     "output_type": "stream",
     "text": [
      "sol_2.y[1][0::6] = array([0.35502805, 0.19145234, 0.06368989, 0.0205917 , 0.00554734,\n",
      "       0.00106409])\n",
      "special.airy(sol_2.t)[0][0::6] = array([0.35502805, 0.19145234, 0.06368989, 0.0205917 , 0.00554733,\n",
      "       0.00106406])\n"
     ]
    }
   ],
   "source": [
    "rtol, atol = (1e-8, 1e-8)\n",
    "sol_2 = integrate.solve_ivp(func, t_span, y0, rtol=rtol, atol=atol)\n",
    "print(f\"{sol_2.y[1][0::6] = }\")\n",
    "print(f\"{special.airy(sol_2.t)[0][0::6] = }\")"
   ]
  },
  {
   "cell_type": "markdown",
   "metadata": {},
   "source": [
    "To specify _user defined time points_ for the solution of `solve_ivp`, `solve_ivp` offers __two possibilities__ that can also be used _complementarily_. By passing the `t_eval` option to the function call `solve_ivp` returns the solutions of these time points of `t_eval` in its output."
   ]
  },
  {
   "cell_type": "code",
   "execution_count": 8,
   "metadata": {},
   "outputs": [
    {
     "name": "stdout",
     "output_type": "stream",
     "text": [
      "sol_3.y[1] = array([0.35502805, 0.34457455, 0.33414366, 0.32375857, 0.31344848,\n",
      "       0.30322957, 0.29311531, 0.28311847, 0.27325111, 0.26352463,\n",
      "       0.2539497 , 0.24453632, 0.23529379, 0.2262307 , 0.21735498,\n",
      "       0.20867384, 0.2001938 , 0.1919207 , 0.18385965, 0.17601512,\n",
      "       0.16839084, 0.16098988, 0.15381458, 0.14686662, 0.14014697,\n",
      "       0.1336559 , 0.12739294, 0.12134991, 0.11552015, 0.10990153,\n",
      "       0.10449165, 0.0992878 , 0.09428702, 0.08948607, 0.08488142,\n",
      "       0.08046929, 0.0762456 , 0.072206  , 0.06834587, 0.0646603 ,\n",
      "       0.06114413, 0.05779189, 0.05459786, 0.05155603, 0.04866012,\n",
      "       0.04590358, 0.04327956, 0.04078096, 0.03840242, 0.03614376,\n",
      "       0.0340012 , 0.03197068, 0.03004811, 0.02822941, 0.02651045,\n",
      "       0.02488709, 0.02335518, 0.02191055, 0.02054902, 0.01926636,\n",
      "       0.01805837, 0.01692079, 0.01584938, 0.01484095, 0.01389327,\n",
      "       0.01300391, 0.0121705 , 0.01139064, 0.01066195, 0.00998207,\n",
      "       0.00934862, 0.00875925, 0.00821161, 0.00770337, 0.00723218,\n",
      "       0.00679572, 0.00639167, 0.00601803, 0.00567428, 0.00535947,\n",
      "       0.00507261, 0.00481273, 0.00457892, 0.00437032, 0.0041861 ,\n",
      "       0.00402549, 0.00388776, 0.00377223, 0.00367826, 0.00360526,\n",
      "       0.00355272, 0.00352096, 0.00351031, 0.00352097, 0.00355327,\n",
      "       0.00360766, 0.00368472, 0.00378518, 0.00390989, 0.00405982])\n"
     ]
    }
   ],
   "source": [
    "t = np.linspace(0, 4, 100)\n",
    "sol_3 = integrate.solve_ivp(func, t_span, y0, t_eval=t)\n",
    "print(f\"{sol_3.y[1] = }\")"
   ]
  },
  {
   "cell_type": "markdown",
   "metadata": {},
   "source": [
    "If the `jacobian matrix` of function is known, it can be passed to the `solve_ivp` to _achieve better results_. Please be aware however that the _default integration method_ __`RK45`__ _**does not support** jacobian matrices_ and thereby another integration method has to be chosen. One of the integration methods that support a jacobian matrix is the for example the `Radau` method of following example."
   ]
  },
  {
   "cell_type": "code",
   "execution_count": 9,
   "metadata": {},
   "outputs": [
    {
     "name": "stdout",
     "output_type": "stream",
     "text": [
      "sol_4.y[1] = array([0.35502805, 0.34030634, 0.20473892, 0.11623908, 0.06006125,\n",
      "       0.0285282 , 0.01255771, 0.00529495, 0.00215195, 0.00112582,\n",
      "       0.00111641])\n"
     ]
    }
   ],
   "source": [
    "sol_4 = integrate.solve_ivp(func, t_span, y0, method=\"Radau\", jac=gradient)\n",
    "print(f\"{sol_4.y[1] = }\")"
   ]
  },
  {
   "cell_type": "code",
   "execution_count": null,
   "metadata": {},
   "outputs": [],
   "source": []
  }
 ],
 "metadata": {
  "kernelspec": {
   "display_name": "Python 3.9.6 ('scn-env': venv)",
   "language": "python",
   "name": "python3"
  },
  "language_info": {
   "codemirror_mode": {
    "name": "ipython",
    "version": 3
   },
   "file_extension": ".py",
   "mimetype": "text/x-python",
   "name": "python",
   "nbconvert_exporter": "python",
   "pygments_lexer": "ipython3",
   "version": "3.9.6"
  },
  "orig_nbformat": 4,
  "vscode": {
   "interpreter": {
    "hash": "334adecaf545d8ac59366034c1ccd78db2f87fef6cb2e0b7d53f54b4d7280283"
   }
  }
 },
 "nbformat": 4,
 "nbformat_minor": 2
}
